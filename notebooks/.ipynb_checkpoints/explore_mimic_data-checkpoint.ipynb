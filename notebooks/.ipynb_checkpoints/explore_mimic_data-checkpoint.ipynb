{
 "cells": [
  {
   "cell_type": "code",
   "execution_count": null,
   "id": "cd9fef3e",
   "metadata": {},
   "outputs": [],
   "source": [
    "import pandas as pd\n",
    "import numpy as np\n",
    "from tableone import TableOne"
   ]
  },
  {
   "cell_type": "code",
   "execution_count": null,
   "id": "5554707f",
   "metadata": {},
   "outputs": [],
   "source": [
    "import sys\n",
    "import os, sys\n",
    "dir2 = os.path.abspath('')\n",
    "dir1 = os.path.dirname(dir2)\n",
    "if not dir1 in sys.path: sys.path.append(dir1)\n",
    "from experiment.read_file import read_file \n",
    "\n",
    "# X,y = read_file('../experiment/data/mimic4_admissions.csv')\n",
    "df = pd.read_csv('../experiment/data/mimic4_admissions.csv')\n",
    "df\n",
    "# X"
   ]
  },
  {
   "cell_type": "code",
   "execution_count": null,
   "id": "fcc2044b",
   "metadata": {},
   "outputs": [],
   "source": [
    "df.ethnicity = df.ethnicity.apply(lambda x: x.title())\n",
    "df.ethnicity.value_counts()"
   ]
  },
  {
   "cell_type": "code",
   "execution_count": null,
   "id": "98923ac2",
   "metadata": {},
   "outputs": [],
   "source": [
    "help(TableOne)"
   ]
  },
  {
   "cell_type": "code",
   "execution_count": null,
   "id": "0a88616c",
   "metadata": {},
   "outputs": [],
   "source": [
    "df_tbl = df.copy()\n",
    "groups = ['ethnicity','gender']\n",
    "df_tbl['Admission Decision'] = df_tbl['y'].apply(lambda x: 'Admit' if x else 'Discharge')\n",
    "mytable = TableOne(df_tbl, \n",
    "                   columns=groups, \n",
    "                   categorical=['ethnicity','gender'], #,'age_binned'],\n",
    "                   groupby='Admission Decision', \n",
    "#                    nonnormal=groups,\n",
    "                   overall=False,\n",
    "                   missing=False,\n",
    "                   pval=True,\n",
    "                   row_percent=True,\n",
    "                   pval_adjust='bonferroni',\n",
    "                   rename={\n",
    "                           'ethnicity':'Ethnicity',\n",
    "                           'gender':'Gender'\n",
    "                          }\n",
    "         \n",
    "        )\n",
    "display(mytable)\n",
    "mytable.to_latex('../overleaf/tbls/tableone.tex',\n",
    "                 column_format='llrrrrl'\n",
    "                )"
   ]
  },
  {
   "cell_type": "code",
   "execution_count": null,
   "id": "0edd9833",
   "metadata": {},
   "outputs": [],
   "source": [
    "import pdb \n",
    "OUTCOME = 'Admission Decision'\n",
    "def ccr(x):\n",
    "    cases = (x=='Admit').sum()\n",
    "    count = len(x)\n",
    "    pct = int(round(cases/count*100,0))\n",
    "    return f'{int(cases)}/{int(count)} ({pct}%)'\n",
    "def case_control_ratio(x, outcome=OUTCOME):\n",
    "    pdb.set_trace()\n",
    "    return ccr(x[outcome])\n",
    "    \n",
    "df_ccr = (df_tbl.groupby(groups)\n",
    "          .apply(case_control_ratio)\n",
    "          .unstack()\n",
    "         )\n",
    "\n",
    "# df_ccr.name='Admission Decision'\n",
    "display(df_ccr)\n",
    "df_ccr.to_latex() #'../overleaf/tbls/case_count_ratio_intersection.tex')"
   ]
  },
  {
   "cell_type": "code",
   "execution_count": null,
   "id": "4e0ecca8",
   "metadata": {},
   "outputs": [],
   "source": [
    "df_tbl.loc[df_tbl['gender']=='F']"
   ]
  },
  {
   "cell_type": "code",
   "execution_count": null,
   "id": "8c43fd6f",
   "metadata": {},
   "outputs": [],
   "source": [
    "df_ccr['All','F'] = df_tbl.loc[df_tbl['gender']=='F'].transform(case_control_ratio)"
   ]
  },
  {
   "cell_type": "code",
   "execution_count": null,
   "id": "4f3743d9",
   "metadata": {},
   "outputs": [],
   "source": [
    "tmp = pd.DataFrame()\n",
    "tmp = (df_tbl.groupby(groups)\n",
    "       .apply(case_control_ratio)\n",
    "       .reset_index()\n",
    "       .rename(columns={0:'Admit/Discharge (%)'})\n",
    "#                               .pivot(columns=groups)\n",
    "#           .unstack()\n",
    "         )\n",
    "tmp\n",
    "# tmp = tmp.append({'ethnicity':'All',\n",
    "#                   'gender':'M',\n",
    "                  \n",
    "#                  })\n",
    "# tmp.pivot(columns=['ethnicity','gender'])\n",
    "# tmp.set_index()\n",
    "# tmp.loc[('F','All')] = df_tbl.loc[:,df_tbl['gender']=='F'].apply(case_control_ratio)\n",
    "# idx = list(tmp.index.levels)\n",
    "# idx[0].append(pd.Index('All'))\n",
    "# idx[1].append(pd.Index('All'))\n",
    "# idx\n",
    "# idx.levels\n",
    "# tmp.pivot()"
   ]
  },
  {
   "cell_type": "code",
   "execution_count": null,
   "id": "7107fca1",
   "metadata": {},
   "outputs": [],
   "source": []
  }
 ],
 "metadata": {
  "kernelspec": {
   "display_name": "Python 3 (ipykernel)",
   "language": "python",
   "name": "python3"
  },
  "language_info": {
   "codemirror_mode": {
    "name": "ipython",
    "version": 3
   },
   "file_extension": ".py",
   "mimetype": "text/x-python",
   "name": "python",
   "nbconvert_exporter": "python",
   "pygments_lexer": "ipython3",
   "version": "3.9.7"
  }
 },
 "nbformat": 4,
 "nbformat_minor": 5
}
