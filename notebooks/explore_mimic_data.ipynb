{
 "cells": [
  {
   "cell_type": "code",
   "execution_count": null,
   "id": "cd9fef3e",
   "metadata": {},
   "outputs": [],
   "source": [
    "import pandas as pd\n",
    "import numpy as np\n",
    "from tableone import TableOne"
   ]
  },
  {
   "cell_type": "code",
   "execution_count": null,
   "id": "5554707f",
   "metadata": {},
   "outputs": [],
   "source": [
    "import sys\n",
    "import os, sys\n",
    "dir2 = os.path.abspath('')\n",
    "dir1 = os.path.dirname(dir2)\n",
    "if not dir1 in sys.path: sys.path.append(dir1)\n",
    "from experiment.read_file import read_file \n",
    "\n",
    "df = pd.read_csv('../experiment/data/mimic4_admissions.csv')\n",
    "df"
   ]
  },
  {
   "cell_type": "code",
   "execution_count": null,
   "id": "fcc2044b",
   "metadata": {},
   "outputs": [],
   "source": [
    "df.ethnicity = df.ethnicity.apply(lambda x: x.title())\n",
    "df.ethnicity.value_counts()"
   ]
  },
  {
   "cell_type": "code",
   "execution_count": null,
   "id": "070fcb8d",
   "metadata": {},
   "outputs": [],
   "source": [
    "# combine 'Unkown' with 'Unable to Obtain'\n",
    "df.loc[df['ethnicity'].isin(['Unable To Obtain','Unknown']),'ethnicity'] = 'Unknown/Unable to Obtain' \n",
    "df.ethnicity.value_counts()"
   ]
  },
  {
   "cell_type": "markdown",
   "id": "5d0fa935",
   "metadata": {},
   "source": [
    "# make a 'tableone' style table"
   ]
  },
  {
   "cell_type": "code",
   "execution_count": null,
   "id": "0a88616c",
   "metadata": {},
   "outputs": [],
   "source": [
    "df_tbl = df.copy()\n",
    "groups = ['ethnicity','gender']\n",
    "df_tbl['Admission Decision'] = df_tbl['y'].apply(lambda x: 'Admit' if x else 'Discharge')\n",
    "mytable = TableOne(df_tbl, \n",
    "                   columns=groups, \n",
    "                   categorical=['ethnicity','gender'], #,'age_binned'],\n",
    "                   groupby='Admission Decision', \n",
    "#                    nonnormal=groups,\n",
    "                   overall=False,\n",
    "                   missing=False,\n",
    "                   pval=True,\n",
    "                   row_percent=True,\n",
    "                   pval_adjust='bonferroni',\n",
    "                   rename={\n",
    "                           'ethnicity':'Ethnicity',\n",
    "                           'gender':'Gender'\n",
    "                          }\n",
    "         \n",
    "        )\n",
    "display(mytable)\n",
    "# mytable.to_latex('../overleaf/tbls/tableone.tex',\n",
    "#                  column_format='llrrrrl'\n",
    "#                 )"
   ]
  },
  {
   "cell_type": "code",
   "execution_count": null,
   "id": "6833c294",
   "metadata": {},
   "outputs": [],
   "source": [
    "import pdb \n",
    "OUTCOME = 'Admission Decision'\n",
    "def ccr(x):\n",
    "#     pdb.set_trace()\n",
    "    cases = (x=='Admit').sum()\n",
    "    count = len(x)\n",
    "    pct = int(round(cases/count*100,0))\n",
    "    return f'{int(cases)}/{int(count)} ({pct}%)'\n",
    "def case_control_ratio(x, outcome=OUTCOME):\n",
    "#     pdb.set_trace()\n",
    "    return ccr(x[outcome])\n",
    "    \n",
    "\n"
   ]
  },
  {
   "cell_type": "markdown",
   "id": "bed0969e",
   "metadata": {},
   "source": [
    "# calculate case/control ratios"
   ]
  },
  {
   "cell_type": "code",
   "execution_count": null,
   "id": "acc98b80",
   "metadata": {},
   "outputs": [],
   "source": [
    "df_ccr = (df_tbl.groupby(groups,as_index=False)\n",
    "          .apply(case_control_ratio)\n",
    "          .rename(columns={None:'Admit/Discharge (%)'})\n",
    "         )\n",
    "# df_ccr.name='Admission Decision'\n",
    "display(df_ccr)\n",
    "df_ccr.to_latex() #'../overleaf/tbls/case_count_ratio_intersection.tex')\n",
    "# df_ccr.columns\n",
    "for g in groups:\n",
    "    for g2 in groups:\n",
    "        if g == g2: \n",
    "            continue\n",
    "        for level, dfg in df_tbl.groupby(g2):\n",
    "    #         display(dfg)\n",
    "            try:\n",
    "                df_ccr = df_ccr.append({\n",
    "                    g:'Overall',\n",
    "                    g2:level,\n",
    "                    'Admit/Discharge (%)': ccr(dfg['Admission Decision'])\n",
    "\n",
    "                }, ignore_index=True)\n",
    "            except Exception as e:\n",
    "                print(e)\n",
    "    #             raise e\n",
    "    #             pdb.set_trace()\n",
    "entry = {\n",
    "'ethnicity':'Overall',\n",
    "'gender':'Overall',\n",
    "'Admit/Discharge (%)': ccr(df_tbl['Admission Decision'])\n",
    "}\n",
    "# pdb.set_trace()\n",
    "df_ccr = df_ccr.append(entry, ignore_index=True)\n",
    "df_ccr"
   ]
  },
  {
   "cell_type": "code",
   "execution_count": null,
   "id": "4b9518fa",
   "metadata": {},
   "outputs": [],
   "source": [
    "df_ccr['ethnicity'].unique()\n",
    "eth_order = ['American Indian/Alaska Native', 'Asian', 'Black/African American',\n",
    "       'Hispanic/Latino', 'Other', 'Unknown/Unable to Obtain', 'White',\n",
    "       'Overall']\n",
    "gen_order = ['F','M','Overall']"
   ]
  },
  {
   "cell_type": "markdown",
   "id": "451de6f4",
   "metadata": {},
   "source": [
    "# make intersection prevalence table "
   ]
  },
  {
   "cell_type": "code",
   "execution_count": null,
   "id": "a97bdc23",
   "metadata": {},
   "outputs": [],
   "source": [
    "\n",
    "df_ccr = df_ccr.rename(columns={'gender':'Gender',\n",
    "                               'ethnicity':'Ethnoracial Group'})\n",
    "tmp = (df_ccr.pivot(index='Ethnoracial Group',columns='Gender',values='Admit/Discharge (%)')\n",
    " .loc[eth_order]\n",
    ")\n",
    "display(tmp)\n",
    "# tmp.to_latex('../overleaf/tbls/case_control_intersections.tex',\n",
    "#              column_format='lrrr'\n",
    "#             )\n",
    "# df_ccr.groupby(groups).count()"
   ]
  }
 ],
 "metadata": {
  "kernelspec": {
   "display_name": "Python 3 (ipykernel)",
   "language": "python",
   "name": "python3"
  },
  "language_info": {
   "codemirror_mode": {
    "name": "ipython",
    "version": 3
   },
   "file_extension": ".py",
   "mimetype": "text/x-python",
   "name": "python",
   "nbconvert_exporter": "python",
   "pygments_lexer": "ipython3",
   "version": "3.9.7"
  }
 },
 "nbformat": 4,
 "nbformat_minor": 5
}
